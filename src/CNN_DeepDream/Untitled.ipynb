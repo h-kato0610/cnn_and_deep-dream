{
 "cells": [
  {
   "cell_type": "code",
   "execution_count": 2,
   "id": "9b72d56c-7694-49df-878f-952745697446",
   "metadata": {},
   "outputs": [],
   "source": [
    "import numpy as np"
   ]
  },
  {
   "cell_type": "code",
   "execution_count": 5,
   "id": "9d5f92e5-89dc-44df-8863-d4ae17270879",
   "metadata": {},
   "outputs": [
    {
     "name": "stdout",
     "output_type": "stream",
     "text": [
      "[[[2 2 2]]\n",
      "\n",
      " [[2 2 2]]]\n"
     ]
    }
   ],
   "source": [
    "size=(2, 1, 3)\n",
    "print(np.full(size, 2))"
   ]
  }
 ],
 "metadata": {
  "kernelspec": {
   "display_name": "Python 3 (ipykernel)",
   "language": "python",
   "name": "python3"
  },
  "language_info": {
   "codemirror_mode": {
    "name": "ipython",
    "version": 3
   },
   "file_extension": ".py",
   "mimetype": "text/x-python",
   "name": "python",
   "nbconvert_exporter": "python",
   "pygments_lexer": "ipython3",
   "version": "3.9.7"
  }
 },
 "nbformat": 4,
 "nbformat_minor": 5
}
