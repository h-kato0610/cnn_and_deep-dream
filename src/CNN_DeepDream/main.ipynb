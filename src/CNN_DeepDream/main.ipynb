{
 "cells": [
  {
   "cell_type": "markdown",
   "id": "a571685b-6479-487f-90f0-f9ee0a756143",
   "metadata": {},
   "source": [
    "# For Sample\n",
    "`https://www.kaggle.com/code/carloalbertobarbano/convolutional-network-visualizations-deep-dream/notebook`"
   ]
  },
  {
   "cell_type": "code",
   "execution_count": 2,
   "id": "e80ea86d-2246-460c-9a18-6629d69b2292",
   "metadata": {},
   "outputs": [],
   "source": [
    "import numpy as np\n",
    "import torch\n",
    "from torch.autograd import Variable\n",
    "from torch.optim import SGD\n",
    "from torchvision import models, transforms\n",
    "import PIL\n",
    "import os\n",
    "import matplotlib\n",
    "import matplotlib.pyplot as plt\n",
    "from matplotlib import animation\n",
    "from IPython.display import HTML\n",
    "\n",
    "import scipy.ndimage as ndimage\n",
    "\n",
    "%matplotlib inline\n",
    "\n",
    "import scipy.ndimage as nd\n",
    "import PIL.Image\n",
    "from IPython.display import clear_output, Image, display\n",
    "from io import BytesIO"
   ]
  },
  {
   "cell_type": "code",
   "execution_count": 8,
   "id": "6e8b0d4c-9b3d-443d-871d-c8eaf371cd6d",
   "metadata": {},
   "outputs": [],
   "source": [
    "def show_array(image, format='jpg'):\n",
    "    # 0 ~ 255 の値に収め、uint8のnp型にキャストする\n",
    "    clip_np_image = np.uint8(np.clip(image, 0, 255))\n",
    "    # バイト列を格納するBufferを用意する\n",
    "    buffer = BytesIO()\n",
    "    \n",
    "    PIL.Image.fromarray(clip_np_image).save(buffer, format)\n",
    "    display(Image(data=buffer.getvalue()))"
   ]
  },
  {
   "cell_type": "code",
   "execution_count": 9,
   "id": "922b2d09-2e19-44ce-b99b-aa87a523d324",
   "metadata": {},
   "outputs": [],
   "source": [
    "def show_tensor(image):\n",
    "    # reshapeは配列を形状変換する\n",
    "    # 平均\n",
    "    # [0.485 0.456 0.406] -> [[[0.485 0.456 0.406]]]\n",
    "    maen = np.array([0.485, 0.456, 0.406]).reshape([1, 1, 3])\n",
    "    # 標準偏差\n",
    "    # [0.229, 0.224, 0.225] -> [[[0.229, 0.224, 0.225]]]\n",
    "    std = np.array([0.229, 0.224, 0.225]).reshape([1, 1, 3])\n",
    "\n",
    "    # インプット\n",
    "    inp = a[0, :, :, :]\n",
    "    inp = inp.transpose(1, 2, 0)\n",
    "    inp = std * inp + mean\n",
    "    inp *= 255\n",
    "\n",
    "    showarray(inp)\n",
    "    clear_output(wait=True)"
   ]
  }
 ],
 "metadata": {
  "kernelspec": {
   "display_name": "Python 3 (ipykernel)",
   "language": "python",
   "name": "python3"
  },
  "language_info": {
   "codemirror_mode": {
    "name": "ipython",
    "version": 3
   },
   "file_extension": ".py",
   "mimetype": "text/x-python",
   "name": "python",
   "nbconvert_exporter": "python",
   "pygments_lexer": "ipython3",
   "version": "3.9.7"
  }
 },
 "nbformat": 4,
 "nbformat_minor": 5
}
